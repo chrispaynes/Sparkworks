{
 "cells": [
  {
   "cell_type": "code",
   "execution_count": 1,
   "metadata": {},
   "outputs": [],
   "source": [
    "from pyspark.sql import SparkSession\n",
    "from pyspark.sql.functions import concat, lit\n",
    "from configparser import ConfigParser\n",
    "import psycopg2\n",
    "from IPython.display import display"
   ]
  },
  {
   "cell_type": "code",
   "execution_count": 3,
   "metadata": {},
   "outputs": [
    {
     "name": "stdout",
     "output_type": "stream",
     "text": [
      "+--------+-----------+--------------------+--------------------+--------+-----------+-----+----------+--------------+--------------------+-----------------+--------+------------+-----------+-------------+\n",
      "|OBJECTID|     HSISID|                NAME|            ADDRESS1|ADDRESS2|       CITY|STATE|POSTALCODE|   PHONENUMBER|  RESTAURANTOPENDATE|     FACILITYTYPE|PERMITID|           X|          Y|GEOCODESTATUS|\n",
      "+--------+-----------+--------------------+--------------------+--------+-----------+-----+----------+--------------+--------------------+-----------------+--------+------------+-----------+-------------+\n",
      "|    1001|04092016024|                WABA|2502 1/2 HILLSBOR...|    null|    RALEIGH|   NC|     27607|(919) 833-1710|2011-10-18T00:00:...|       Restaurant|    6952|-78.66818477|35.78783803|            M|\n",
      "|    1002|04092021693|  WALMART DELI #2247|2010 KILDAIRE FAR...|    null|       CARY|   NC|     27518|(919) 852-6651|2011-11-08T00:00:...|       Food Stand|    6953|-78.78211173|35.73717591|            M|\n",
      "|    1003|04092017012|CAROLINA SUSHI &a...|5951-107 POYNER V...|    null|    RALEIGH|   NC|     27616|(919) 981-5835|2015-08-28T00:00:...|       Restaurant|    6961|-78.57030208|35.86511564|            M|\n",
      "|    1004|04092030288|THE CORNER VENEZU...|    7500 RAMBLE WAY |    null|    RALEIGH|   NC|     27616|          null|2015-09-04T00:00:...|Mobile Food Units|    6962|  -78.537511|35.87630712|            M|\n",
      "|    1005|04092015530|        SUBWAY #3726| 12233 CAPITAL BLVD |    null|WAKE FOREST|   NC|27587-6200|(919) 556-8266|2009-12-11T00:00:...|       Restaurant|    6972|-78.54097555|35.98087357|            M|\n",
      "+--------+-----------+--------------------+--------------------+--------+-----------+-----+----------+--------------+--------------------+-----------------+--------+------------+-----------+-------------+\n",
      "only showing top 5 rows\n",
      "\n",
      "root\n",
      " |-- OBJECTID: string (nullable = true)\n",
      " |-- HSISID: string (nullable = true)\n",
      " |-- NAME: string (nullable = true)\n",
      " |-- ADDRESS1: string (nullable = true)\n",
      " |-- ADDRESS2: string (nullable = true)\n",
      " |-- CITY: string (nullable = true)\n",
      " |-- STATE: string (nullable = true)\n",
      " |-- POSTALCODE: string (nullable = true)\n",
      " |-- PHONENUMBER: string (nullable = true)\n",
      " |-- RESTAURANTOPENDATE: string (nullable = true)\n",
      " |-- FACILITYTYPE: string (nullable = true)\n",
      " |-- PERMITID: string (nullable = true)\n",
      " |-- X: string (nullable = true)\n",
      " |-- Y: string (nullable = true)\n",
      " |-- GEOCODESTATUS: string (nullable = true)\n",
      "\n"
     ]
    },
    {
     "data": {
      "text/plain": [
       "3440"
      ]
     },
     "execution_count": 3,
     "metadata": {},
     "output_type": "execute_result"
    }
   ],
   "source": [
    "# create a spark session\n",
    "spark = SparkSession \\\n",
    "    .builder \\\n",
    "    .master(\"local\") \\\n",
    "    .appName(\"Wake County Restaurants\") \\\n",
    "    .getOrCreate()\n",
    "\n",
    "# create a dataframe from the CSV\n",
    "df = spark \\\n",
    "    .read \\\n",
    "    .format(\"csv\") \\\n",
    "    .option(\"header\", \"true\") \\\n",
    "    .load(\"./data/Restaurants_in_Wake_County_NC.csv\")\n",
    "\n",
    "df.show(5)\n",
    "\n",
    "df.printSchema()\n",
    "df.count()"
   ]
  },
  {
   "cell_type": "code",
   "execution_count": 4,
   "metadata": {},
   "outputs": [
    {
     "data": {
      "text/plain": [
       "Row(datasetId='04092016024', name='WABA', address1='2502 1/2 HILLSBOROUGH  ST ', address2=None, city='RALEIGH', state='NC', zip='27607', tel='(919) 833-1710', dateStart='2011-10-18T00:00:00.000Z', type='Restaurant', geoX='-78.66818477', geoY='35.78783803', county='Wake')"
      ]
     },
     "execution_count": 4,
     "metadata": {},
     "output_type": "execute_result"
    }
   ],
   "source": [
    "# add, remap and drop columns\n",
    "df = df.withColumn(\"county\", lit(\"Wake\")) \\\n",
    "    .withColumnRenamed(\"HSISID\", \"datasetId\") \\\n",
    "    .withColumnRenamed(\"NAME\", \"name\") \\\n",
    "    .withColumnRenamed(\"ADDRESS1\", \"address1\") \\\n",
    "    .withColumnRenamed(\"ADDRESS2\", \"address2\") \\\n",
    "    .withColumnRenamed(\"CITY\", \"city\") \\\n",
    "    .withColumnRenamed(\"STATE\", \"state\") \\\n",
    "    .withColumnRenamed(\"POSTALCODE\", \"zip\") \\\n",
    "    .withColumnRenamed(\"PHONENUMBER\", \"tel\") \\\n",
    "    .withColumnRenamed(\"RESTAURANTOPENDATE\", \"dateStart\") \\\n",
    "    .withColumnRenamed(\"FACILITYTYPE\", \"type\") \\\n",
    "    .withColumnRenamed(\"X\", \"geoX\") \\\n",
    "    .withColumnRenamed(\"Y\", \"geoY\") \\\n",
    "    .drop(\"OBJECTID\") \\\n",
    "    .drop(\"PERMITID\") \\\n",
    "    .drop(\"GEOCODESTATUS\")\n",
    "\n",
    "df.head()"
   ]
  },
  {
   "cell_type": "code",
   "execution_count": 5,
   "metadata": {},
   "outputs": [
    {
     "name": "stdout",
     "output_type": "stream",
     "text": [
      "root\n",
      " |-- datasetId: string (nullable = true)\n",
      " |-- name: string (nullable = true)\n",
      " |-- address1: string (nullable = true)\n",
      " |-- address2: string (nullable = true)\n",
      " |-- city: string (nullable = true)\n",
      " |-- state: string (nullable = true)\n",
      " |-- zip: string (nullable = true)\n",
      " |-- tel: string (nullable = true)\n",
      " |-- dateStart: string (nullable = true)\n",
      " |-- type: string (nullable = true)\n",
      " |-- geoX: string (nullable = true)\n",
      " |-- geoY: string (nullable = true)\n",
      " |-- county: string (nullable = false)\n",
      " |-- id: string (nullable = true)\n",
      "\n"
     ]
    }
   ],
   "source": [
    "# create a unique id for each record\n",
    "delim = lit(\"_\")\n",
    "df = df.withColumn(\"id\", concat(df[\"state\"], delim, df[\"county\"], delim, df[\"datasetId\"]))\n",
    "\n",
    "df.head()\n",
    "df.printSchema()"
   ]
  }
 ],
 "metadata": {
  "kernelspec": {
   "display_name": "Python 3",
   "language": "python",
   "name": "python3"
  },
  "language_info": {
   "codemirror_mode": {
    "name": "ipython",
    "version": 3
   },
   "file_extension": ".py",
   "mimetype": "text/x-python",
   "name": "python",
   "nbconvert_exporter": "python",
   "pygments_lexer": "ipython3",
   "version": "3.7.6"
  }
 },
 "nbformat": 4,
 "nbformat_minor": 4
}
