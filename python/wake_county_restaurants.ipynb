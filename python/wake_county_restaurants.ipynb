{
 "cells": [
  {
   "cell_type": "code",
   "execution_count": 91,
   "metadata": {},
   "outputs": [],
   "source": [
    "from pyspark.sql import SparkSession\n",
    "from pyspark.sql.functions import concat, lit, split\n",
    "from configparser import ConfigParser\n",
    "import psycopg2\n",
    "from IPython.display import display\n",
    "import pprint as pp"
   ]
  },
  {
   "cell_type": "code",
   "execution_count": 34,
   "metadata": {},
   "outputs": [
    {
     "name": "stdout",
     "output_type": "stream",
     "text": [
      "+--------+-----------+--------------------+--------------------+--------+-----------+-----+----------+--------------+--------------------+-----------------+--------+------------+-----------+-------------+\n",
      "|OBJECTID|     HSISID|                NAME|            ADDRESS1|ADDRESS2|       CITY|STATE|POSTALCODE|   PHONENUMBER|  RESTAURANTOPENDATE|     FACILITYTYPE|PERMITID|           X|          Y|GEOCODESTATUS|\n",
      "+--------+-----------+--------------------+--------------------+--------+-----------+-----+----------+--------------+--------------------+-----------------+--------+------------+-----------+-------------+\n",
      "|    1001|04092016024|                WABA|2502 1/2 HILLSBOR...|    null|    RALEIGH|   NC|     27607|(919) 833-1710|2011-10-18T00:00:...|       Restaurant|    6952|-78.66818477|35.78783803|            M|\n",
      "|    1002|04092021693|  WALMART DELI #2247|2010 KILDAIRE FAR...|    null|       CARY|   NC|     27518|(919) 852-6651|2011-11-08T00:00:...|       Food Stand|    6953|-78.78211173|35.73717591|            M|\n",
      "|    1003|04092017012|CAROLINA SUSHI &a...|5951-107 POYNER V...|    null|    RALEIGH|   NC|     27616|(919) 981-5835|2015-08-28T00:00:...|       Restaurant|    6961|-78.57030208|35.86511564|            M|\n",
      "|    1004|04092030288|THE CORNER VENEZU...|    7500 RAMBLE WAY |    null|    RALEIGH|   NC|     27616|          null|2015-09-04T00:00:...|Mobile Food Units|    6962|  -78.537511|35.87630712|            M|\n",
      "|    1005|04092015530|        SUBWAY #3726| 12233 CAPITAL BLVD |    null|WAKE FOREST|   NC|27587-6200|(919) 556-8266|2009-12-11T00:00:...|       Restaurant|    6972|-78.54097555|35.98087357|            M|\n",
      "+--------+-----------+--------------------+--------------------+--------+-----------+-----+----------+--------------+--------------------+-----------------+--------+------------+-----------+-------------+\n",
      "only showing top 5 rows\n",
      "\n",
      "root\n",
      " |-- OBJECTID: string (nullable = true)\n",
      " |-- HSISID: string (nullable = true)\n",
      " |-- NAME: string (nullable = true)\n",
      " |-- ADDRESS1: string (nullable = true)\n",
      " |-- ADDRESS2: string (nullable = true)\n",
      " |-- CITY: string (nullable = true)\n",
      " |-- STATE: string (nullable = true)\n",
      " |-- POSTALCODE: string (nullable = true)\n",
      " |-- PHONENUMBER: string (nullable = true)\n",
      " |-- RESTAURANTOPENDATE: string (nullable = true)\n",
      " |-- FACILITYTYPE: string (nullable = true)\n",
      " |-- PERMITID: string (nullable = true)\n",
      " |-- X: string (nullable = true)\n",
      " |-- Y: string (nullable = true)\n",
      " |-- GEOCODESTATUS: string (nullable = true)\n",
      "\n"
     ]
    },
    {
     "data": {
      "text/plain": [
       "3440"
      ]
     },
     "execution_count": 34,
     "metadata": {},
     "output_type": "execute_result"
    }
   ],
   "source": [
    "# create a spark session\n",
    "spark = SparkSession \\\n",
    "    .builder \\\n",
    "    .master(\"local\") \\\n",
    "    .appName(\"Wake County Restaurants\") \\\n",
    "    .getOrCreate()\n",
    "\n",
    "# create a dataframe from the CSV\n",
    "df = spark \\\n",
    "    .read \\\n",
    "    .format(\"csv\") \\\n",
    "    .option(\"header\", \"true\") \\\n",
    "    .load(\"../data/Restaurants_in_Wake_County_NC.csv\")\n",
    "\n",
    "df.show(5)\n",
    "\n",
    "df.printSchema()\n",
    "df.count()"
   ]
  },
  {
   "cell_type": "code",
   "execution_count": 35,
   "metadata": {},
   "outputs": [],
   "source": [
    "# # create a new column\n",
    "# df.withColumn()\n",
    "\n",
    "# # rename an existing column\n",
    "# df.withColumnRenamed()\n",
    "\n",
    "# # get a column by name\n",
    "# df.col()\n",
    "# df.drop()\n",
    "# df.lit()\n",
    "# df.concat()\n",
    "\n",
    "# Displays the top 5 rows. Accepts an optional int parameter - num. of rows to show\n",
    "# df.head()\n",
    "\n",
    "# Similar to head, but displays the last rows\n",
    "# df.tail()\n",
    "\n",
    "# The dimensions of the dataframe as a (rows, cols) tuple\n",
    "# df.shape\n",
    "\n",
    "# The number of columns. Equal to df.shape[0]\n",
    "# len(df) \n",
    "\n",
    "# An array of the column names\n",
    "# df.columns \n",
    "\n",
    "# Columns and their types\n",
    "# df.dtypes\n",
    "\n",
    "# Converts the frame to a two-dimensional table\n",
    "# df.values \n",
    "\n",
    "# Displays descriptive stats for all columns\n",
    "# df.describe()\n"
   ]
  },
  {
   "cell_type": "code",
   "execution_count": 36,
   "metadata": {},
   "outputs": [
    {
     "data": {
      "text/plain": [
       "Row(datasetId='04092016024', name='WABA', address1='2502 1/2 HILLSBOROUGH  ST ', address2=None, city='RALEIGH', state='NC', zip='27607', tel='(919) 833-1710', dateStart='2011-10-18T00:00:00.000Z', type='Restaurant', geoX='-78.66818477', geoY='35.78783803', county='Wake')"
      ]
     },
     "execution_count": 36,
     "metadata": {},
     "output_type": "execute_result"
    }
   ],
   "source": [
    "# add, remap and drop columns\n",
    "df = df.withColumn(\"county\", lit(\"Wake\")) \\\n",
    "    .withColumnRenamed(\"HSISID\", \"datasetId\") \\\n",
    "    .withColumnRenamed(\"NAME\", \"name\") \\\n",
    "    .withColumnRenamed(\"ADDRESS1\", \"address1\") \\\n",
    "    .withColumnRenamed(\"ADDRESS2\", \"address2\") \\\n",
    "    .withColumnRenamed(\"CITY\", \"city\") \\\n",
    "    .withColumnRenamed(\"STATE\", \"state\") \\\n",
    "    .withColumnRenamed(\"POSTALCODE\", \"zip\") \\\n",
    "    .withColumnRenamed(\"PHONENUMBER\", \"tel\") \\\n",
    "    .withColumnRenamed(\"RESTAURANTOPENDATE\", \"dateStart\") \\\n",
    "    .withColumnRenamed(\"FACILITYTYPE\", \"type\") \\\n",
    "    .withColumnRenamed(\"X\", \"geoX\") \\\n",
    "    .withColumnRenamed(\"Y\", \"geoY\") \\\n",
    "    .drop(\"OBJECTID\") \\\n",
    "    .drop(\"PERMITID\") \\\n",
    "    .drop(\"GEOCODESTATUS\")\n",
    "\n",
    "df.head()"
   ]
  },
  {
   "cell_type": "code",
   "execution_count": 37,
   "metadata": {},
   "outputs": [
    {
     "name": "stdout",
     "output_type": "stream",
     "text": [
      "root\n",
      " |-- datasetId: string (nullable = true)\n",
      " |-- name: string (nullable = true)\n",
      " |-- address1: string (nullable = true)\n",
      " |-- address2: string (nullable = true)\n",
      " |-- city: string (nullable = true)\n",
      " |-- state: string (nullable = true)\n",
      " |-- zip: string (nullable = true)\n",
      " |-- tel: string (nullable = true)\n",
      " |-- dateStart: string (nullable = true)\n",
      " |-- type: string (nullable = true)\n",
      " |-- geoX: string (nullable = true)\n",
      " |-- geoY: string (nullable = true)\n",
      " |-- county: string (nullable = false)\n",
      " |-- id: string (nullable = true)\n",
      "\n"
     ]
    }
   ],
   "source": [
    "# create a unique id for each record\n",
    "delim = lit(\"_\")\n",
    "df = df.withColumn(\"id\", concat(df[\"state\"], delim, df[\"county\"], delim, df[\"datasetId\"]))\n",
    "\n",
    "df.head()\n",
    "df.printSchema()"
   ]
  },
  {
   "cell_type": "code",
   "execution_count": 43,
   "metadata": {},
   "outputs": [
    {
     "data": {
      "text/plain": [
       "4"
      ]
     },
     "execution_count": 43,
     "metadata": {},
     "output_type": "execute_result"
    }
   ],
   "source": [
    "# Returns the number of partitions in RDD\n",
    "df.rdd.getNumPartitions()\n",
    "\n",
    "# increase the level of parallelism in this RDD\n",
    "df = df.repartition(4)\n",
    "\n",
    "df.rdd.getNumPartitions()"
   ]
  },
  {
   "cell_type": "code",
   "execution_count": 66,
   "metadata": {},
   "outputs": [
    {
     "name": "stdout",
     "output_type": "stream",
     "text": [
      "{'fields': [{'metadata': {},\n",
      "             'name': 'datasetId',\n",
      "             'nullable': True,\n",
      "             'type': 'string'},\n",
      "            {'metadata': {},\n",
      "             'name': 'name',\n",
      "             'nullable': True,\n",
      "             'type': 'string'},\n",
      "            {'metadata': {},\n",
      "             'name': 'address1',\n",
      "             'nullable': True,\n",
      "             'type': 'string'},\n",
      "            {'metadata': {},\n",
      "             'name': 'address2',\n",
      "             'nullable': True,\n",
      "             'type': 'string'},\n",
      "            {'metadata': {},\n",
      "             'name': 'city',\n",
      "             'nullable': True,\n",
      "             'type': 'string'},\n",
      "            {'metadata': {},\n",
      "             'name': 'state',\n",
      "             'nullable': True,\n",
      "             'type': 'string'},\n",
      "            {'metadata': {}, 'name': 'zip', 'nullable': True, 'type': 'string'},\n",
      "            {'metadata': {}, 'name': 'tel', 'nullable': True, 'type': 'string'},\n",
      "            {'metadata': {},\n",
      "             'name': 'dateStart',\n",
      "             'nullable': True,\n",
      "             'type': 'string'},\n",
      "            {'metadata': {},\n",
      "             'name': 'type',\n",
      "             'nullable': True,\n",
      "             'type': 'string'},\n",
      "            {'metadata': {},\n",
      "             'name': 'geoX',\n",
      "             'nullable': True,\n",
      "             'type': 'string'},\n",
      "            {'metadata': {},\n",
      "             'name': 'geoY',\n",
      "             'nullable': True,\n",
      "             'type': 'string'},\n",
      "            {'metadata': {},\n",
      "             'name': 'county',\n",
      "             'nullable': False,\n",
      "             'type': 'string'},\n",
      "            {'metadata': {}, 'name': 'id', 'nullable': True, 'type': 'string'}],\n",
      " 'type': 'struct'}\n"
     ]
    }
   ],
   "source": [
    "df.schema.simpleString()\n",
    "pp.pprint(df.schema.jsonValue())"
   ]
  },
  {
   "cell_type": "code",
   "execution_count": 87,
   "metadata": {},
   "outputs": [
    {
     "name": "stdout",
     "output_type": "stream",
     "text": [
      "+----------------+--------------------+--------------------+--------------------+--------------------+\n",
      "|       datasetid|              fields|            geometry|    record_timestamp|            recordid|\n",
      "+----------------+--------------------+--------------------+--------------------+--------------------+\n",
      "|restaurants-data|[, Full-Service R...|[[-78.9573299, 35...|2017-07-13T09:15:...|1644654b953d1802c...|\n",
      "|restaurants-data|[, Nursing Home, ...|[[-78.8895483, 36...|2017-07-13T09:15:...|93573dbf8c9e799d8...|\n",
      "|restaurants-data|[, Fast Food Rest...|[[-78.9593263, 35...|2017-07-13T09:15:...|0d274200c7cef50d0...|\n",
      "|restaurants-data|[, Full-Service R...|[[-78.9060312, 36...|2017-07-13T09:15:...|cf3e0b175a6ebad2a...|\n",
      "|restaurants-data|[,, [36.0556347, ...|[[-78.9135175, 36...|2017-07-13T09:15:...|e796570677f7c39cc...|\n",
      "+----------------+--------------------+--------------------+--------------------+--------------------+\n",
      "only showing top 5 rows\n",
      "\n"
     ]
    },
    {
     "data": {
      "text/plain": [
       "None"
      ]
     },
     "metadata": {},
     "output_type": "display_data"
    },
    {
     "name": "stdout",
     "output_type": "stream",
     "text": [
      "[Row(datasetid='restaurants-data', fields=Row(closing_date=None, est_group_desc='Full-Service Restaurant', geolocation=[35.9207272, -78.9573299], hours_of_operation=None, id='56060', insp_freq=4, opening_date='1994-09-01', premise_address1='4711 HOPE VALLEY RD', premise_address2='SUITE 6C', premise_city='DURHAM', premise_name='WEST 94TH ST PUB', premise_phone='(919) 403-0025', premise_state='NC', premise_zip='27707', risk=4, rpt_area_desc='Food Service', seats=60, sewage='3 - Municipal/Community', smoking_allowed='NO', status='ACTIVE', transitional_type_desc='FOOD', type_description='1 - Restaurant', water='5 - Municipal/Community'), geometry=Row(coordinates=[-78.9573299, 35.9207272], type='Point'), record_timestamp='2017-07-13T09:15:31-04:00', recordid='1644654b953d1802c3c941211f61be1f727b2951')]\n"
     ]
    }
   ],
   "source": [
    "dfJSON = spark \\\n",
    "    .read \\\n",
    "    .format(\"json\") \\\n",
    "    .load(\"../data/Restaurants_in_Durham_County_NC.json\")\n",
    "\n",
    "\n",
    "display(dfJSON.show(5))\n",
    "pp.pprint(dfJSON.head(1))"
   ]
  },
  {
   "cell_type": "code",
   "execution_count": 72,
   "metadata": {},
   "outputs": [
    {
     "name": "stdout",
     "output_type": "stream",
     "text": [
      "root\n",
      " |-- datasetid: string (nullable = true)\n",
      " |-- fields: struct (nullable = true)\n",
      " |    |-- closing_date: string (nullable = true)\n",
      " |    |-- est_group_desc: string (nullable = true)\n",
      " |    |-- geolocation: array (nullable = true)\n",
      " |    |    |-- element: double (containsNull = true)\n",
      " |    |-- hours_of_operation: string (nullable = true)\n",
      " |    |-- id: string (nullable = true)\n",
      " |    |-- insp_freq: long (nullable = true)\n",
      " |    |-- opening_date: string (nullable = true)\n",
      " |    |-- premise_address1: string (nullable = true)\n",
      " |    |-- premise_address2: string (nullable = true)\n",
      " |    |-- premise_city: string (nullable = true)\n",
      " |    |-- premise_name: string (nullable = true)\n",
      " |    |-- premise_phone: string (nullable = true)\n",
      " |    |-- premise_state: string (nullable = true)\n",
      " |    |-- premise_zip: string (nullable = true)\n",
      " |    |-- risk: long (nullable = true)\n",
      " |    |-- rpt_area_desc: string (nullable = true)\n",
      " |    |-- seats: long (nullable = true)\n",
      " |    |-- sewage: string (nullable = true)\n",
      " |    |-- smoking_allowed: string (nullable = true)\n",
      " |    |-- status: string (nullable = true)\n",
      " |    |-- transitional_type_desc: string (nullable = true)\n",
      " |    |-- type_description: string (nullable = true)\n",
      " |    |-- water: string (nullable = true)\n",
      " |-- geometry: struct (nullable = true)\n",
      " |    |-- coordinates: array (nullable = true)\n",
      " |    |    |-- element: double (containsNull = true)\n",
      " |    |-- type: string (nullable = true)\n",
      " |-- record_timestamp: string (nullable = true)\n",
      " |-- recordid: string (nullable = true)\n",
      "\n"
     ]
    }
   ],
   "source": [
    "dfJSON.printSchema()"
   ]
  },
  {
   "cell_type": "code",
   "execution_count": 101,
   "metadata": {},
   "outputs": [
    {
     "data": {
      "text/plain": [
       "Row(datasetId='56060', record_timestamp='2017-07-13T09:15:31-04:00', recordid='1644654b953d1802c3c941211f61be1f727b2951', county='Durham', name='WEST 94TH ST PUB', address1='4711 HOPE VALLEY RD', address2='SUITE 6C', city='DURHAM', state='NC', zip='27707', tel='(919) 403-0025', dateStart='1994-09-01', dateEnd=None, type='Restaurant', geoX=35.9207272, geoY=-78.9573299, id='NC_Durham_56060')"
      ]
     },
     "execution_count": 101,
     "metadata": {},
     "output_type": "execute_result"
    }
   ],
   "source": [
    "dfJSON = dfJSON.withColumn(\"county\", lit(\"Durham\")) \\\n",
    "    .withColumn(\"datasetId\", dfJSON[\"fields.id\"]) \\\n",
    "    .withColumn(\"name\", dfJSON[\"fields.premise_name\"]) \\\n",
    "    .withColumn(\"address1\", dfJSON[\"fields.premise_address1\"]) \\\n",
    "    .withColumn(\"address2\", dfJSON[\"fields.premise_address2\"]) \\\n",
    "    .withColumn(\"city\", dfJSON[\"fields.premise_city\"]) \\\n",
    "    .withColumn(\"state\", dfJSON[\"fields.premise_state\"]) \\\n",
    "    .withColumn(\"zip\", dfJSON[\"fields.premise_zip\"]) \\\n",
    "    .withColumn(\"tel\", dfJSON[\"fields.premise_phone\"]) \\\n",
    "    .withColumn(\"dateStart\", dfJSON[\"fields.opening_date\"]) \\\n",
    "    .withColumn(\"dateEnd\", dfJSON[\"fields.closing_date\"]) \\\n",
    "    .withColumn(\"type\", split(dfJSON[\"fields.type_description\"], \" - \").getItem(1)) \\\n",
    "    .withColumn(\"geoX\", dfJSON[\"fields.geolocation\"].getItem(0)) \\\n",
    "    .withColumn(\"geoY\", dfJSON[\"fields.geolocation\"].getItem(1)) \\\n",
    "    .drop(\"geometry\") \\\n",
    "    .drop(\"fields\")\n",
    "\n",
    "dfJSON.head()"
   ]
  },
  {
   "cell_type": "code",
   "execution_count": 104,
   "metadata": {},
   "outputs": [
    {
     "name": "stdout",
     "output_type": "stream",
     "text": [
      "+---------+--------------------+--------------------+------+--------------------+--------------------+--------+------+-----+-----+--------------+----------+-------+--------------------+----------+-----------+---------------+\n",
      "|datasetId|    record_timestamp|            recordid|county|                name|            address1|address2|  city|state|  zip|           tel| dateStart|dateEnd|                type|      geoX|       geoY|             id|\n",
      "+---------+--------------------+--------------------+------+--------------------+--------------------+--------+------+-----+-----+--------------+----------+-------+--------------------+----------+-----------+---------------+\n",
      "|    56060|2017-07-13T09:15:...|1644654b953d1802c...|Durham|    WEST 94TH ST PUB| 4711 HOPE VALLEY RD|SUITE 6C|DURHAM|   NC|27707|(919) 403-0025|1994-09-01|   null|          Restaurant|35.9207272|-78.9573299|NC_Durham_56060|\n",
      "|    58123|2017-07-13T09:15:...|93573dbf8c9e799d8...|Durham|BROOKDALE DURHAM IFS|4434 BEN FRANKLIN...|    null|DURHAM|   NC|27704|(919) 479-9966|2003-10-15|   null|Institutional Foo...|36.0467802|-78.8895483|NC_Durham_58123|\n",
      "|    70266|2017-07-13T09:15:...|0d274200c7cef50d0...|Durham|       SMOOTHIE KING|1125 W. NC HWY 54...|    null|DURHAM|   NC|27707|(919) 489-7300|2009-07-09|   null|          Restaurant|35.9182655|-78.9593263|NC_Durham_70266|\n",
      "|    97837|2017-07-13T09:15:...|cf3e0b175a6ebad2a...|Durham|HAMPTON INN & SUITES|   1542 N GREGSON ST|    null|DURHAM|   NC|27701|(919) 688-8880|2012-01-09|   null|          Restaurant|36.0183378|-78.9060312|NC_Durham_97837|\n",
      "|    60690|2017-07-13T09:15:...|e796570677f7c39cc...|Durham|BETTER LIVING CON...|       909 GARCIA ST|    null|DURHAM|   NC|27704|(919) 477-5825|2008-06-02|   null|    Residential Care|36.0556347|-78.9135175|NC_Durham_60690|\n",
      "+---------+--------------------+--------------------+------+--------------------+--------------------+--------+------+-----+-----+--------------+----------+-------+--------------------+----------+-----------+---------------+\n",
      "only showing top 5 rows\n",
      "\n"
     ]
    }
   ],
   "source": [
    "delim = lit(\"_\")\n",
    "dfJSON = dfJSON.withColumn(\"id\", concat(dfJSON[\"state\"], delim, dfJSON[\"county\"], delim, dfJSON[\"datasetId\"]))\n",
    "\n",
    "dfJSON.show(5)"
   ]
  },
  {
   "cell_type": "code",
   "execution_count": 103,
   "metadata": {},
   "outputs": [
    {
     "name": "stdout",
     "output_type": "stream",
     "text": [
      "root\n",
      " |-- datasetId: string (nullable = true)\n",
      " |-- record_timestamp: string (nullable = true)\n",
      " |-- recordid: string (nullable = true)\n",
      " |-- county: string (nullable = false)\n",
      " |-- name: string (nullable = true)\n",
      " |-- address1: string (nullable = true)\n",
      " |-- address2: string (nullable = true)\n",
      " |-- city: string (nullable = true)\n",
      " |-- state: string (nullable = true)\n",
      " |-- zip: string (nullable = true)\n",
      " |-- tel: string (nullable = true)\n",
      " |-- dateStart: string (nullable = true)\n",
      " |-- dateEnd: string (nullable = true)\n",
      " |-- type: string (nullable = true)\n",
      " |-- geoX: double (nullable = true)\n",
      " |-- geoY: double (nullable = true)\n",
      " |-- id: string (nullable = true)\n",
      "\n"
     ]
    }
   ],
   "source": [
    "dfJSON.printSchema()"
   ]
  },
  {
   "cell_type": "code",
   "execution_count": 105,
   "metadata": {},
   "outputs": [
    {
     "data": {
      "text/plain": [
       "4"
      ]
     },
     "execution_count": 105,
     "metadata": {},
     "output_type": "execute_result"
    }
   ],
   "source": [
    "dfJSON = dfJSON.repartition(4)\n",
    "dfJSON.rdd.getNumPartitions()"
   ]
  }
 ],
 "metadata": {
  "kernelspec": {
   "display_name": "Python 3",
   "language": "python",
   "name": "python3"
  },
  "language_info": {
   "codemirror_mode": {
    "name": "ipython",
    "version": 3
   },
   "file_extension": ".py",
   "mimetype": "text/x-python",
   "name": "python",
   "nbconvert_exporter": "python",
   "pygments_lexer": "ipython3",
   "version": "3.7.6"
  }
 },
 "nbformat": 4,
 "nbformat_minor": 4
}
