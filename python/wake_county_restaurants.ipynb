{
 "cells": [
  {
   "cell_type": "code",
   "execution_count": 2,
   "metadata": {},
   "outputs": [],
   "source": [
    "from pyspark.sql import SparkSession\n",
    "from pyspark.sql.functions import concat, lit, split\n",
    "from configparser import ConfigParser\n",
    "import psycopg2\n",
    "from IPython.display import display\n",
    "import pprint as pp"
   ]
  },
  {
   "cell_type": "code",
   "execution_count": 24,
   "metadata": {},
   "outputs": [],
   "source": [
    "# create a spark session\n",
    "spark = SparkSession \\\n",
    "    .builder \\\n",
    "    .master(\"local\") \\\n",
    "    .appName(\"Wake County Restaurants\") \\\n",
    "    .getOrCreate()"
   ]
  },
  {
   "cell_type": "code",
   "execution_count": 53,
   "metadata": {},
   "outputs": [],
   "source": [
    "def buildWakeCountyDataframe():\n",
    "    \"\"\"\n",
    "    add, remap and drop columns\n",
    "    loads the Wake County Restaurant data into a dataframe\n",
    "    and adds, remaps and drop columns\n",
    "    \"\"\"\n",
    "    \n",
    "    df = spark \\\n",
    "        .read \\\n",
    "        .format(\"csv\") \\\n",
    "        .option(\"header\", \"true\") \\\n",
    "        .load(\"../data/Restaurants_in_Wake_County_NC.csv\")\n",
    "        \n",
    "    df = df.withColumn(\"county\", lit(\"Wake\")) \\\n",
    "        .withColumnRenamed(\"HSISID\", \"datasetId\") \\\n",
    "        .withColumnRenamed(\"NAME\", \"name\") \\\n",
    "        .withColumnRenamed(\"ADDRESS1\", \"address1\") \\\n",
    "        .withColumnRenamed(\"ADDRESS2\", \"address2\") \\\n",
    "        .withColumnRenamed(\"CITY\", \"city\") \\\n",
    "        .withColumnRenamed(\"STATE\", \"state\") \\\n",
    "        .withColumnRenamed(\"POSTALCODE\", \"zip\") \\\n",
    "        .withColumnRenamed(\"PHONENUMBER\", \"tel\") \\\n",
    "        .withColumnRenamed(\"RESTAURANTOPENDATE\", \"dateStart\") \\\n",
    "        .withColumn(\"dateEnd\", lit(None)) \\\n",
    "        .withColumnRenamed(\"FACILITYTYPE\", \"type\") \\\n",
    "        .withColumnRenamed(\"X\", \"geoX\") \\\n",
    "        .withColumnRenamed(\"Y\", \"geoY\") \\\n",
    "        .drop(\"OBJECTID\") \\\n",
    "        .drop(\"PERMITID\") \\\n",
    "        .drop(\"GEOCODESTATUS\")\n",
    "\n",
    "    # create a unique id for each record\n",
    "    delim = lit(\"_\")\n",
    "    df = df.withColumn(\n",
    "        \"id\",\n",
    "        concat(\n",
    "            df[\"state\"],\n",
    "            delim,\n",
    "            df[\"county\"],\n",
    "            delim,\n",
    "            df[\"datasetId\"],\n",
    "        ),\n",
    "    )\n",
    "    \n",
    "    return df"
   ]
  },
  {
   "cell_type": "code",
   "execution_count": 48,
   "metadata": {},
   "outputs": [],
   "source": [
    "def buildDurhamCountyDataframe():\n",
    "    \"\"\"\n",
    "    add, remap and drop columns\n",
    "    loads the Durham County Restaurant data into a dataframe\n",
    "    and adds, remaps and drop columns\n",
    "    \"\"\"\n",
    "    \n",
    "    df = spark \\\n",
    "        .read \\\n",
    "        .format(\"json\") \\\n",
    "        .load(\"../data/Restaurants_in_Durham_County_NC.json\")\n",
    "    \n",
    "    df = df.withColumn(\"county\", lit(\"Durham\")) \\\n",
    "        .withColumn(\"datasetId\", df[\"fields.id\"]) \\\n",
    "        .withColumn(\"name\", df[\"fields.premise_name\"]) \\\n",
    "        .withColumn(\"address1\", df[\"fields.premise_address1\"]) \\\n",
    "        .withColumn(\"address2\", df[\"fields.premise_address2\"]) \\\n",
    "        .withColumn(\"city\", df[\"fields.premise_city\"]) \\\n",
    "        .withColumn(\"state\", df[\"fields.premise_state\"]) \\\n",
    "        .withColumn(\"zip\", df[\"fields.premise_zip\"]) \\\n",
    "        .withColumn(\"tel\", df[\"fields.premise_phone\"]) \\\n",
    "        .withColumn(\"dateStart\", df[\"fields.opening_date\"]) \\\n",
    "        .withColumn(\"dateEnd\", df[\"fields.closing_date\"]) \\\n",
    "        .withColumn(\"type\", split(df[\"fields.type_description\"], \" - \").getItem(1)) \\\n",
    "        .withColumn(\"geoX\", df[\"fields.geolocation\"].getItem(0)) \\\n",
    "        .withColumn(\"geoY\", df[\"fields.geolocation\"].getItem(1)) \\\n",
    "        .drop(\"geometry\") \\\n",
    "        .drop(\"record_timestamp\") \\\n",
    "        .drop(\"recordid\") \\\n",
    "        .drop(\"fields\")\n",
    "\n",
    "    # create a unique id for each record\n",
    "    delim = lit(\"_\")\n",
    "    df = df.withColumn(\"id\", concat(df[\"state\"], delim, df[\"county\"], delim, df[\"datasetId\"]))\n",
    "    \n",
    "    return df"
   ]
  },
  {
   "cell_type": "code",
   "execution_count": 49,
   "metadata": {},
   "outputs": [],
   "source": [
    "wakeRestaurantsDF = buildWakeCountyDataframe()\n",
    "durhamRestaurantsDF = buildDurhamCountyDataframe()"
   ]
  },
  {
   "cell_type": "code",
   "execution_count": 50,
   "metadata": {},
   "outputs": [
    {
     "name": "stdout",
     "output_type": "stream",
     "text": [
      "root\n",
      " |-- datasetId: string (nullable = true)\n",
      " |-- name: string (nullable = true)\n",
      " |-- address1: string (nullable = true)\n",
      " |-- address2: string (nullable = true)\n",
      " |-- city: string (nullable = true)\n",
      " |-- state: string (nullable = true)\n",
      " |-- zip: string (nullable = true)\n",
      " |-- tel: string (nullable = true)\n",
      " |-- dateStart: string (nullable = true)\n",
      " |-- type: string (nullable = true)\n",
      " |-- geoX: string (nullable = true)\n",
      " |-- geoY: string (nullable = true)\n",
      " |-- county: string (nullable = false)\n",
      " |-- dateEnd: null (nullable = true)\n",
      " |-- id: string (nullable = true)\n",
      "\n"
     ]
    },
    {
     "data": {
      "text/plain": [
       "None"
      ]
     },
     "metadata": {},
     "output_type": "display_data"
    },
    {
     "data": {
      "text/plain": [
       "3440"
      ]
     },
     "metadata": {},
     "output_type": "display_data"
    },
    {
     "name": "stdout",
     "output_type": "stream",
     "text": [
      "+-----------+--------------------+--------------------+--------+-----------+-----+----------+--------------+--------------------+-----------------+------------+-----------+------+-------+-------------------+\n",
      "|  datasetId|                name|            address1|address2|       city|state|       zip|           tel|           dateStart|             type|        geoX|       geoY|county|dateEnd|                 id|\n",
      "+-----------+--------------------+--------------------+--------+-----------+-----+----------+--------------+--------------------+-----------------+------------+-----------+------+-------+-------------------+\n",
      "|04092016024|                WABA|2502 1/2 HILLSBOR...|    null|    RALEIGH|   NC|     27607|(919) 833-1710|2011-10-18T00:00:...|       Restaurant|-78.66818477|35.78783803|  Wake|   null|NC_Wake_04092016024|\n",
      "|04092021693|  WALMART DELI #2247|2010 KILDAIRE FAR...|    null|       CARY|   NC|     27518|(919) 852-6651|2011-11-08T00:00:...|       Food Stand|-78.78211173|35.73717591|  Wake|   null|NC_Wake_04092021693|\n",
      "|04092017012|CAROLINA SUSHI &a...|5951-107 POYNER V...|    null|    RALEIGH|   NC|     27616|(919) 981-5835|2015-08-28T00:00:...|       Restaurant|-78.57030208|35.86511564|  Wake|   null|NC_Wake_04092017012|\n",
      "|04092030288|THE CORNER VENEZU...|    7500 RAMBLE WAY |    null|    RALEIGH|   NC|     27616|          null|2015-09-04T00:00:...|Mobile Food Units|  -78.537511|35.87630712|  Wake|   null|NC_Wake_04092030288|\n",
      "|04092015530|        SUBWAY #3726| 12233 CAPITAL BLVD |    null|WAKE FOREST|   NC|27587-6200|(919) 556-8266|2009-12-11T00:00:...|       Restaurant|-78.54097555|35.98087357|  Wake|   null|NC_Wake_04092015530|\n",
      "+-----------+--------------------+--------------------+--------+-----------+-----+----------+--------------+--------------------+-----------------+------------+-----------+------+-------+-------------------+\n",
      "only showing top 5 rows\n",
      "\n"
     ]
    },
    {
     "data": {
      "text/plain": [
       "None"
      ]
     },
     "metadata": {},
     "output_type": "display_data"
    },
    {
     "data": {
      "text/plain": [
       "Row(datasetId='04092016024', name='WABA', address1='2502 1/2 HILLSBOROUGH  ST ', address2=None, city='RALEIGH', state='NC', zip='27607', tel='(919) 833-1710', dateStart='2011-10-18T00:00:00.000Z', type='Restaurant', geoX='-78.66818477', geoY='35.78783803', county='Wake', dateEnd=None, id='NC_Wake_04092016024')"
      ]
     },
     "metadata": {},
     "output_type": "display_data"
    }
   ],
   "source": [
    "display(wakeRestaurantsDF.printSchema())\n",
    "display(wakeRestaurantsDF.count())\n",
    "display(wakeRestaurantsDF.show(5))\n",
    "display(wakeRestaurantsDF.head())"
   ]
  },
  {
   "cell_type": "code",
   "execution_count": 51,
   "metadata": {},
   "outputs": [
    {
     "name": "stdout",
     "output_type": "stream",
     "text": [
      "root\n",
      " |-- datasetId: string (nullable = true)\n",
      " |-- county: string (nullable = false)\n",
      " |-- name: string (nullable = true)\n",
      " |-- address1: string (nullable = true)\n",
      " |-- address2: string (nullable = true)\n",
      " |-- city: string (nullable = true)\n",
      " |-- state: string (nullable = true)\n",
      " |-- zip: string (nullable = true)\n",
      " |-- tel: string (nullable = true)\n",
      " |-- dateStart: string (nullable = true)\n",
      " |-- dateEnd: string (nullable = true)\n",
      " |-- type: string (nullable = true)\n",
      " |-- geoX: double (nullable = true)\n",
      " |-- geoY: double (nullable = true)\n",
      " |-- id: string (nullable = true)\n",
      "\n"
     ]
    },
    {
     "data": {
      "text/plain": [
       "None"
      ]
     },
     "metadata": {},
     "output_type": "display_data"
    },
    {
     "data": {
      "text/plain": [
       "2463"
      ]
     },
     "metadata": {},
     "output_type": "display_data"
    },
    {
     "name": "stdout",
     "output_type": "stream",
     "text": [
      "+---------+------+--------------------+--------------------+--------+------+-----+-----+--------------+----------+-------+--------------------+----------+-----------+---------------+\n",
      "|datasetId|county|                name|            address1|address2|  city|state|  zip|           tel| dateStart|dateEnd|                type|      geoX|       geoY|             id|\n",
      "+---------+------+--------------------+--------------------+--------+------+-----+-----+--------------+----------+-------+--------------------+----------+-----------+---------------+\n",
      "|    56060|Durham|    WEST 94TH ST PUB| 4711 HOPE VALLEY RD|SUITE 6C|DURHAM|   NC|27707|(919) 403-0025|1994-09-01|   null|          Restaurant|35.9207272|-78.9573299|NC_Durham_56060|\n",
      "|    58123|Durham|BROOKDALE DURHAM IFS|4434 BEN FRANKLIN...|    null|DURHAM|   NC|27704|(919) 479-9966|2003-10-15|   null|Institutional Foo...|36.0467802|-78.8895483|NC_Durham_58123|\n",
      "|    70266|Durham|       SMOOTHIE KING|1125 W. NC HWY 54...|    null|DURHAM|   NC|27707|(919) 489-7300|2009-07-09|   null|          Restaurant|35.9182655|-78.9593263|NC_Durham_70266|\n",
      "|    97837|Durham|HAMPTON INN & SUITES|   1542 N GREGSON ST|    null|DURHAM|   NC|27701|(919) 688-8880|2012-01-09|   null|          Restaurant|36.0183378|-78.9060312|NC_Durham_97837|\n",
      "|    60690|Durham|BETTER LIVING CON...|       909 GARCIA ST|    null|DURHAM|   NC|27704|(919) 477-5825|2008-06-02|   null|    Residential Care|36.0556347|-78.9135175|NC_Durham_60690|\n",
      "+---------+------+--------------------+--------------------+--------+------+-----+-----+--------------+----------+-------+--------------------+----------+-----------+---------------+\n",
      "only showing top 5 rows\n",
      "\n"
     ]
    },
    {
     "data": {
      "text/plain": [
       "None"
      ]
     },
     "metadata": {},
     "output_type": "display_data"
    },
    {
     "data": {
      "text/plain": [
       "Row(datasetId='56060', county='Durham', name='WEST 94TH ST PUB', address1='4711 HOPE VALLEY RD', address2='SUITE 6C', city='DURHAM', state='NC', zip='27707', tel='(919) 403-0025', dateStart='1994-09-01', dateEnd=None, type='Restaurant', geoX=35.9207272, geoY=-78.9573299, id='NC_Durham_56060')"
      ]
     },
     "metadata": {},
     "output_type": "display_data"
    }
   ],
   "source": [
    "display(durhamRestaurantsDF.printSchema())\n",
    "display(durhamRestaurantsDF.count())\n",
    "display(durhamRestaurantsDF.show(5))\n",
    "display(durhamRestaurantsDF.head())"
   ]
  },
  {
   "cell_type": "code",
   "execution_count": 4,
   "metadata": {},
   "outputs": [],
   "source": [
    "# # create a new column\n",
    "# df.withColumn()\n",
    "\n",
    "# # rename an existing column\n",
    "# df.withColumnRenamed()\n",
    "\n",
    "# # get a column by name\n",
    "# df.col()\n",
    "# df.drop()\n",
    "# df.lit()\n",
    "# df.concat()\n",
    "\n",
    "# Displays the top 5 rows. Accepts an optional int parameter - num. of rows to show\n",
    "# df.head()\n",
    "\n",
    "# Similar to head, but displays the last rows\n",
    "# df.tail()\n",
    "\n",
    "# The dimensions of the dataframe as a (rows, cols) tuple\n",
    "# df.shape\n",
    "\n",
    "# The number of columns. Equal to df.shape[0]\n",
    "# len(df) \n",
    "\n",
    "# An array of the column names\n",
    "# df.columns \n",
    "\n",
    "# Columns and their types\n",
    "# df.dtypes\n",
    "\n",
    "# Converts the frame to a two-dimensional table\n",
    "# df.values \n",
    "\n",
    "# Displays descriptive stats for all columns\n",
    "# df.describe()"
   ]
  },
  {
   "cell_type": "code",
   "execution_count": 63,
   "metadata": {},
   "outputs": [],
   "source": [
    "def combineDataframes(df1, df2):\n",
    "    df = df1.unionByName(df2)\n",
    "\n",
    "    return df"
   ]
  },
  {
   "cell_type": "code",
   "execution_count": 65,
   "metadata": {},
   "outputs": [
    {
     "name": "stdout",
     "output_type": "stream",
     "text": [
      "+-----------+--------------------+--------------------+--------+-----------+-----+----------+--------------+--------------------+-----------------+------------+-----------+------+-------+-------------------+\n",
      "|  datasetId|                name|            address1|address2|       city|state|       zip|           tel|           dateStart|             type|        geoX|       geoY|county|dateEnd|                 id|\n",
      "+-----------+--------------------+--------------------+--------+-----------+-----+----------+--------------+--------------------+-----------------+------------+-----------+------+-------+-------------------+\n",
      "|04092016024|                WABA|2502 1/2 HILLSBOR...|    null|    RALEIGH|   NC|     27607|(919) 833-1710|2011-10-18T00:00:...|       Restaurant|-78.66818477|35.78783803|  Wake|   null|NC_Wake_04092016024|\n",
      "|04092021693|  WALMART DELI #2247|2010 KILDAIRE FAR...|    null|       CARY|   NC|     27518|(919) 852-6651|2011-11-08T00:00:...|       Food Stand|-78.78211173|35.73717591|  Wake|   null|NC_Wake_04092021693|\n",
      "|04092017012|CAROLINA SUSHI &a...|5951-107 POYNER V...|    null|    RALEIGH|   NC|     27616|(919) 981-5835|2015-08-28T00:00:...|       Restaurant|-78.57030208|35.86511564|  Wake|   null|NC_Wake_04092017012|\n",
      "|04092030288|THE CORNER VENEZU...|    7500 RAMBLE WAY |    null|    RALEIGH|   NC|     27616|          null|2015-09-04T00:00:...|Mobile Food Units|  -78.537511|35.87630712|  Wake|   null|NC_Wake_04092030288|\n",
      "|04092015530|        SUBWAY #3726| 12233 CAPITAL BLVD |    null|WAKE FOREST|   NC|27587-6200|(919) 556-8266|2009-12-11T00:00:...|       Restaurant|-78.54097555|35.98087357|  Wake|   null|NC_Wake_04092015530|\n",
      "+-----------+--------------------+--------------------+--------+-----------+-----+----------+--------------+--------------------+-----------------+------------+-----------+------+-------+-------------------+\n",
      "only showing top 5 rows\n",
      "\n",
      "root\n",
      " |-- datasetId: string (nullable = true)\n",
      " |-- name: string (nullable = true)\n",
      " |-- address1: string (nullable = true)\n",
      " |-- address2: string (nullable = true)\n",
      " |-- city: string (nullable = true)\n",
      " |-- state: string (nullable = true)\n",
      " |-- zip: string (nullable = true)\n",
      " |-- tel: string (nullable = true)\n",
      " |-- dateStart: string (nullable = true)\n",
      " |-- type: string (nullable = true)\n",
      " |-- geoX: string (nullable = true)\n",
      " |-- geoY: string (nullable = true)\n",
      " |-- county: string (nullable = false)\n",
      " |-- dateEnd: string (nullable = true)\n",
      " |-- id: string (nullable = true)\n",
      "\n"
     ]
    },
    {
     "data": {
      "text/plain": [
       "2"
      ]
     },
     "execution_count": 65,
     "metadata": {},
     "output_type": "execute_result"
    }
   ],
   "source": [
    "df = combineDataframes(df1 = wakeRestaurantsDF, df2 = durhamRestaurantsDF)\n",
    "\n",
    "df.show(5)\n",
    "df.printSchema()\n",
    "df.count()\n",
    "df.rdd.getNumPartitions()"
   ]
  },
  {
   "cell_type": "code",
   "execution_count": 60,
   "metadata": {},
   "outputs": [
    {
     "name": "stdout",
     "output_type": "stream",
     "text": [
      "Partition Count: 4\n",
      "Partition Count: 4\n"
     ]
    }
   ],
   "source": [
    "def repartitionDataframes(dataframes = [], numPartitions = 1):\n",
    "    for df in dataframes:\n",
    "        # Returns the number of partitions in RDD\n",
    "        df.rdd.getNumPartitions()\n",
    "        # increase the level of parallelism in this RDD\n",
    "        df = df.repartition(numPartitions)\n",
    "        print(f\"Partition Count: {df.rdd.getNumPartitions()}\")"
   ]
  },
  {
   "cell_type": "code",
   "execution_count": null,
   "metadata": {},
   "outputs": [],
   "source": []
  }
 ],
 "metadata": {
  "kernelspec": {
   "display_name": "Python 3",
   "language": "python",
   "name": "python3"
  },
  "language_info": {
   "codemirror_mode": {
    "name": "ipython",
    "version": 3
   },
   "file_extension": ".py",
   "mimetype": "text/x-python",
   "name": "python",
   "nbconvert_exporter": "python",
   "pygments_lexer": "ipython3",
   "version": "3.7.6"
  }
 },
 "nbformat": 4,
 "nbformat_minor": 4
}
